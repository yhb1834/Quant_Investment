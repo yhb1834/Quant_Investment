{
  "nbformat": 4,
  "nbformat_minor": 0,
  "metadata": {
    "colab": {
      "provenance": [],
      "authorship_tag": "ABX9TyOjFd7NUbI9MuRuM603rp0X",
      "include_colab_link": true
    },
    "kernelspec": {
      "name": "python3",
      "display_name": "Python 3"
    },
    "language_info": {
      "name": "python"
    }
  },
  "cells": [
    {
      "cell_type": "markdown",
      "metadata": {
        "id": "view-in-github",
        "colab_type": "text"
      },
      "source": [
        "<a href=\"https://colab.research.google.com/github/yhb1834/Quant_Investment/blob/main/DAA.ipynb\" target=\"_parent\"><img src=\"https://colab.research.google.com/assets/colab-badge.svg\" alt=\"Open In Colab\"/></a>"
      ]
    },
    {
      "cell_type": "code",
      "execution_count": 1,
      "metadata": {
        "colab": {
          "base_uri": "https://localhost:8080/"
        },
        "id": "h62cD9AA0qUG",
        "outputId": "3c3f8100-f99c-40cd-9a7a-f9278ab761da"
      },
      "outputs": [
        {
          "output_type": "stream",
          "name": "stdout",
          "text": [
            "Requirement already satisfied: pandas-datareader in /usr/local/lib/python3.10/dist-packages (0.10.0)\n",
            "Requirement already satisfied: lxml in /usr/local/lib/python3.10/dist-packages (from pandas-datareader) (4.9.4)\n",
            "Requirement already satisfied: pandas>=0.23 in /usr/local/lib/python3.10/dist-packages (from pandas-datareader) (2.0.3)\n",
            "Requirement already satisfied: requests>=2.19.0 in /usr/local/lib/python3.10/dist-packages (from pandas-datareader) (2.31.0)\n",
            "Requirement already satisfied: python-dateutil>=2.8.2 in /usr/local/lib/python3.10/dist-packages (from pandas>=0.23->pandas-datareader) (2.8.2)\n",
            "Requirement already satisfied: pytz>=2020.1 in /usr/local/lib/python3.10/dist-packages (from pandas>=0.23->pandas-datareader) (2023.4)\n",
            "Requirement already satisfied: tzdata>=2022.1 in /usr/local/lib/python3.10/dist-packages (from pandas>=0.23->pandas-datareader) (2024.1)\n",
            "Requirement already satisfied: numpy>=1.21.0 in /usr/local/lib/python3.10/dist-packages (from pandas>=0.23->pandas-datareader) (1.25.2)\n",
            "Requirement already satisfied: charset-normalizer<4,>=2 in /usr/local/lib/python3.10/dist-packages (from requests>=2.19.0->pandas-datareader) (3.3.2)\n",
            "Requirement already satisfied: idna<4,>=2.5 in /usr/local/lib/python3.10/dist-packages (from requests>=2.19.0->pandas-datareader) (3.7)\n",
            "Requirement already satisfied: urllib3<3,>=1.21.1 in /usr/local/lib/python3.10/dist-packages (from requests>=2.19.0->pandas-datareader) (2.0.7)\n",
            "Requirement already satisfied: certifi>=2017.4.17 in /usr/local/lib/python3.10/dist-packages (from requests>=2.19.0->pandas-datareader) (2024.7.4)\n",
            "Requirement already satisfied: six>=1.5 in /usr/local/lib/python3.10/dist-packages (from python-dateutil>=2.8.2->pandas>=0.23->pandas-datareader) (1.16.0)\n"
          ]
        }
      ],
      "source": [
        "pip install pandas-datareader"
      ]
    },
    {
      "cell_type": "code",
      "source": [
        "import yfinance as yf\n",
        "import pandas as pd\n",
        "\n",
        "# VWO ETF의 티커는 'VWO'입니다.\n",
        "ticker = 'VWO'\n",
        "\n",
        "# 데이터를 가져올 기간 설정 (시작일과 종료일)\n",
        "start_date = '2023-07-01'\n",
        "end_date = '2024-07-24'\n",
        "\n",
        "# Yahoo Finance에서 데이터 가져오기\n",
        "data = yf.download(ticker, start=start_date, end=end_date)\n",
        "\n",
        "# 가져온 데이터를 출력해보기\n",
        "print(data.head())"
      ],
      "metadata": {
        "colab": {
          "base_uri": "https://localhost:8080/"
        },
        "id": "P5TF0LNk2sE6",
        "outputId": "fe53a9c5-661c-4328-b332-b2dfa6fee87c"
      },
      "execution_count": 13,
      "outputs": [
        {
          "output_type": "stream",
          "name": "stderr",
          "text": [
            "\r[*********************100%%**********************]  1 of 1 completed"
          ]
        },
        {
          "output_type": "stream",
          "name": "stdout",
          "text": [
            "                 Open       High        Low      Close  Adj Close   Volume\n",
            "Date                                                                      \n",
            "2023-07-03  41.099998  41.270000  41.020000  41.080002  39.699139  4891400\n",
            "2023-07-05  40.950001  40.959999  40.810001  40.880001  39.505856  8001600\n",
            "2023-07-06  40.330002  40.389999  39.959999  40.099998  38.752075  7924400\n",
            "2023-07-07  40.270000  40.770000  40.270000  40.580002  39.215942  6731400\n",
            "2023-07-10  40.349998  40.610001  40.299999  40.590000  39.225601  5512800\n"
          ]
        },
        {
          "output_type": "stream",
          "name": "stderr",
          "text": [
            "\n"
          ]
        }
      ]
    },
    {
      "cell_type": "code",
      "source": [
        "pip install python-dateutil"
      ],
      "metadata": {
        "colab": {
          "base_uri": "https://localhost:8080/"
        },
        "id": "gh-1u_EP7iAd",
        "outputId": "cd0858d3-01ed-4106-e6d0-8b30bd56f7cd"
      },
      "execution_count": 23,
      "outputs": [
        {
          "output_type": "stream",
          "name": "stdout",
          "text": [
            "Requirement already satisfied: python-dateutil in /usr/local/lib/python3.10/dist-packages (2.8.2)\n",
            "Requirement already satisfied: six>=1.5 in /usr/local/lib/python3.10/dist-packages (from python-dateutil) (1.16.0)\n"
          ]
        }
      ]
    },
    {
      "cell_type": "code",
      "source": [
        "import yfinance as yf\n",
        "import pandas as pd\n",
        "from datetime import datetime, timedelta\n",
        "from dateutil.relativedelta import relativedelta\n",
        "\n",
        "def calculate_ratios(ticker, start_date, end_date):\n",
        "    # Yahoo Finance에서 데이터 가져오기\n",
        "    data = yf.download(ticker, start=start_date, end=end_date)\n",
        "\n",
        "    # 현재 날짜 설정 (가장 최근 거래일)\n",
        "    current_date = data.index[-1]\n",
        "\n",
        "    # 필요한 날짜 계산\n",
        "    one_month_ago = current_date - relativedelta(months=1)\n",
        "    three_months_ago = current_date - relativedelta(months=3)\n",
        "    six_months_ago = current_date - relativedelta(months=6)\n",
        "    twelve_months_ago = current_date - relativedelta(months=12)\n",
        "\n",
        "    # 주말을 금요일로 변환하는 함수\n",
        "    def adjust_to_friday(date):\n",
        "        if date.weekday() == 5:  # 토요일\n",
        "            return date - timedelta(days=1)\n",
        "        elif date.weekday() == 6:  # 일요일\n",
        "            return date - timedelta(days=2)\n",
        "        else:\n",
        "            return date\n",
        "\n",
        "    # 날짜 조정\n",
        "    one_month_ago = adjust_to_friday(one_month_ago)\n",
        "    three_months_ago = adjust_to_friday(three_months_ago)\n",
        "    six_months_ago = adjust_to_friday(six_months_ago)\n",
        "    twelve_months_ago = adjust_to_friday(twelve_months_ago)\n",
        "\n",
        "    # 필요한 날짜의 가장 가까운 거래일 찾기\n",
        "    one_month_close = data.loc[:one_month_ago].iloc[-1]['Close']\n",
        "    three_months_close = data.loc[:three_months_ago].iloc[-1]['Close']\n",
        "    six_months_close = data.loc[:six_months_ago].iloc[-1]['Close']\n",
        "    twelve_months_close = data.loc[:twelve_months_ago].iloc[-1]['Close']\n",
        "\n",
        "    # 현재 날짜의 Close 값\n",
        "    current_close = data.loc[current_date]['Close']\n",
        "\n",
        "    # 각 날짜의 Close 값으로 나누고 1을 뺀 값 계산\n",
        "    one_month_ratio = (current_close / one_month_close) - 1\n",
        "    three_months_ratio = (current_close / three_months_close) - 1\n",
        "    six_months_ratio = (current_close / six_months_close) - 1\n",
        "    twelve_months_ratio = (current_close / twelve_months_close) - 1\n",
        "\n",
        "    # 비율의 합 계산\n",
        "    total_ratio = one_month_ratio + three_months_ratio + six_months_ratio + twelve_months_ratio\n",
        "\n",
        "    # 결과 출력\n",
        "    print(f\"{ticker} - 현재 날짜: {current_date}\")\n",
        "    print(f\"{ticker} - 현재 Close 값: {current_close}\")\n",
        "    print(f\"{ticker} - 1달 전 Close 값: {one_month_close}, 비율: {one_month_ratio}\")\n",
        "    print(f\"{ticker} - 3달 전 Close 값: {three_months_close}, 비율: {three_months_ratio}\")\n",
        "    print(f\"{ticker} - 6달 전 Close 값: {six_months_close}, 비율: {six_months_ratio}\")\n",
        "    print(f\"{ticker} - 12달 전 Close 값: {twelve_months_close}, 비율: {twelve_months_ratio}\")\n",
        "    print(f\"{ticker} - 비율의 합: {total_ratio}\")\n",
        "\n",
        "# VWO와 BND ETF에 대해 함수 호출\n",
        "start_date = '2023-07-01'\n",
        "end_date = '2024-07-24'\n",
        "\n",
        "calculate_ratios('VWO', start_date, end_date)\n",
        "calculate_ratios('BND', start_date, end_date)"
      ],
      "metadata": {
        "colab": {
          "base_uri": "https://localhost:8080/"
        },
        "id": "vsiwzs_2_AkF",
        "outputId": "8fd5850c-bd2e-4f18-f00b-7df4e06767d9"
      },
      "execution_count": 31,
      "outputs": [
        {
          "output_type": "stream",
          "name": "stderr",
          "text": [
            "\r[*********************100%%**********************]  1 of 1 completed\n"
          ]
        },
        {
          "output_type": "stream",
          "name": "stdout",
          "text": [
            "VWO - 현재 날짜: 2024-07-23 00:00:00\n",
            "VWO - 현재 Close 값: 43.810001373291016\n",
            "VWO - 1달 전 Close 값: 43.95000076293945, 비율: -0.003185424055020536\n",
            "VWO - 3달 전 Close 값: 41.58000183105469, 비율: 0.05363154026055894\n",
            "VWO - 6달 전 Close 값: 39.540000915527344, 비율: 0.10799191600642688\n",
            "VWO - 12달 전 Close 값: 41.34000015258789, 비율: 0.059748456980799114\n",
            "VWO - 비율의 합: 0.2181864891927644\n"
          ]
        },
        {
          "output_type": "stream",
          "name": "stderr",
          "text": [
            "\r[*********************100%%**********************]  1 of 1 completed"
          ]
        },
        {
          "output_type": "stream",
          "name": "stdout",
          "text": [
            "BND - 현재 날짜: 2024-07-23 00:00:00\n",
            "BND - 현재 Close 값: 72.69999694824219\n",
            "BND - 1달 전 Close 값: 72.5199966430664, 비율: 0.002482078233700502\n",
            "BND - 3달 전 Close 값: 70.94999694824219, 비율: 0.024665258284318536\n",
            "BND - 6달 전 Close 값: 72.62000274658203, 비율: 0.0011015450101166113\n",
            "BND - 12달 전 Close 값: 72.62000274658203, 비율: 0.0011015450101166113\n",
            "BND - 비율의 합: 0.02935042653825226\n"
          ]
        },
        {
          "output_type": "stream",
          "name": "stderr",
          "text": [
            "\n"
          ]
        }
      ]
    },
    {
      "cell_type": "code",
      "source": [
        "import yfinance as yf\n",
        "import pandas as pd\n",
        "from datetime import datetime, timedelta\n",
        "from dateutil.relativedelta import relativedelta\n",
        "\n",
        "def calculate_ratio_12_months(ticker, start_date, end_date):\n",
        "    # Yahoo Finance에서 데이터 가져오기\n",
        "    data = yf.download(ticker, start=start_date, end=end_date)\n",
        "\n",
        "    # 현재 날짜 설정 (가장 최근 거래일)\n",
        "    current_date = data.index[-1]\n",
        "\n",
        "    # 12달 전 날짜 계산\n",
        "    twelve_months_ago = current_date - relativedelta(months=12)\n",
        "\n",
        "    # 주말을 금요일로 변환하는 함수\n",
        "    def adjust_to_friday(date):\n",
        "        if date.weekday() == 5:  # 토요일\n",
        "            return date - timedelta(days=1)\n",
        "        elif date.weekday() == 6:  # 일요일\n",
        "            return date - timedelta(days=2)\n",
        "        else:\n",
        "            return date\n",
        "\n",
        "    # 날짜 조정\n",
        "    twelve_months_ago = adjust_to_friday(twelve_months_ago)\n",
        "\n",
        "    # 12달 전의 가장 가까운 거래일의 Close 값 찾기\n",
        "    twelve_months_close = data.loc[:twelve_months_ago].iloc[-1]['Close']\n",
        "\n",
        "    # 현재 날짜의 Close 값\n",
        "    current_close = data.loc[current_date]['Close']\n",
        "\n",
        "    # 12달 전 Close 값으로 나누고 1을 뺀 값 계산\n",
        "    ratio = (current_close / twelve_months_close) - 1\n",
        "\n",
        "    return ratio\n",
        "\n",
        "# ETF 리스트\n",
        "etf_list = ['SPY', 'QQQ', 'IWM', 'VGK', 'EWJ', 'EEM', 'VNQ', 'GLD', 'DBC', 'HYG', 'LQD', 'TLT']\n",
        "\n",
        "# 데이터를 가져올 기간 설정 (시작일과 종료일)\n",
        "start_date = '2023-07-01'\n",
        "end_date = '2024-07-24'\n",
        "\n",
        "# 각 ETF에 대해 비율 계산\n",
        "etf_ratios = {}\n",
        "for etf in etf_list:\n",
        "    etf_ratios[etf] = calculate_ratio_12_months(etf, start_date, end_date)\n",
        "\n",
        "# 비율을 큰 순서대로 정렬\n",
        "sorted_etf_ratios = sorted(etf_ratios.items(), key=lambda x: x[1], reverse=True)\n",
        "\n",
        "# 결과 출력\n",
        "for etf, ratio in sorted_etf_ratios:\n",
        "    print(f\"{etf}: {ratio}\")"
      ],
      "metadata": {
        "colab": {
          "base_uri": "https://localhost:8080/"
        },
        "id": "A7BY428dBjAq",
        "outputId": "560624d2-e4fd-49ca-9187-c2c3fa59b934"
      },
      "execution_count": 32,
      "outputs": [
        {
          "output_type": "stream",
          "name": "stderr",
          "text": [
            "[*********************100%%**********************]  1 of 1 completed\n",
            "[*********************100%%**********************]  1 of 1 completed\n",
            "[*********************100%%**********************]  1 of 1 completed\n",
            "[*********************100%%**********************]  1 of 1 completed\n",
            "[*********************100%%**********************]  1 of 1 completed\n",
            "[*********************100%%**********************]  1 of 1 completed\n",
            "[*********************100%%**********************]  1 of 1 completed\n",
            "[*********************100%%**********************]  1 of 1 completed\n",
            "[*********************100%%**********************]  1 of 1 completed\n",
            "[*********************100%%**********************]  1 of 1 completed\n",
            "[*********************100%%**********************]  1 of 1 completed\n",
            "[*********************100%%**********************]  1 of 1 completed"
          ]
        },
        {
          "output_type": "stream",
          "name": "stdout",
          "text": [
            "QQQ: 0.27950373737350764\n",
            "SPY: 0.22468936765617187\n",
            "GLD: 0.22175875935603861\n",
            "IWM: 0.14486268228096533\n",
            "EWJ: 0.12546063187792322\n",
            "VGK: 0.07269001487623705\n",
            "EEM: 0.05952384781855513\n",
            "VNQ: 0.04014851557461485\n",
            "HYG: 0.03860947229230138\n",
            "LQD: 0.002500663517772006\n",
            "DBC: -0.0689082539185365\n",
            "TLT: -0.09053382886022943\n"
          ]
        },
        {
          "output_type": "stream",
          "name": "stderr",
          "text": [
            "\n"
          ]
        }
      ]
    },
    {
      "cell_type": "code",
      "source": [],
      "metadata": {
        "id": "aDSIlfLBUdQJ"
      },
      "execution_count": null,
      "outputs": []
    }
  ]
}