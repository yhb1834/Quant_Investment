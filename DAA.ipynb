{
  "nbformat": 4,
  "nbformat_minor": 0,
  "metadata": {
    "colab": {
      "provenance": [],
      "authorship_tag": "ABX9TyNbKbTAHZ3nQNTlVm8Vh3l9",
      "include_colab_link": true
    },
    "kernelspec": {
      "name": "python3",
      "display_name": "Python 3"
    },
    "language_info": {
      "name": "python"
    }
  },
  "cells": [
    {
      "cell_type": "markdown",
      "metadata": {
        "id": "view-in-github",
        "colab_type": "text"
      },
      "source": [
        "<a href=\"https://colab.research.google.com/github/yhb1834/Quant_Investment/blob/main/DAA.ipynb\" target=\"_parent\"><img src=\"https://colab.research.google.com/assets/colab-badge.svg\" alt=\"Open In Colab\"/></a>"
      ]
    },
    {
      "cell_type": "code",
      "execution_count": 1,
      "metadata": {
        "colab": {
          "base_uri": "https://localhost:8080/"
        },
        "id": "h62cD9AA0qUG",
        "outputId": "3c3f8100-f99c-40cd-9a7a-f9278ab761da"
      },
      "outputs": [
        {
          "output_type": "stream",
          "name": "stdout",
          "text": [
            "Requirement already satisfied: pandas-datareader in /usr/local/lib/python3.10/dist-packages (0.10.0)\n",
            "Requirement already satisfied: lxml in /usr/local/lib/python3.10/dist-packages (from pandas-datareader) (4.9.4)\n",
            "Requirement already satisfied: pandas>=0.23 in /usr/local/lib/python3.10/dist-packages (from pandas-datareader) (2.0.3)\n",
            "Requirement already satisfied: requests>=2.19.0 in /usr/local/lib/python3.10/dist-packages (from pandas-datareader) (2.31.0)\n",
            "Requirement already satisfied: python-dateutil>=2.8.2 in /usr/local/lib/python3.10/dist-packages (from pandas>=0.23->pandas-datareader) (2.8.2)\n",
            "Requirement already satisfied: pytz>=2020.1 in /usr/local/lib/python3.10/dist-packages (from pandas>=0.23->pandas-datareader) (2023.4)\n",
            "Requirement already satisfied: tzdata>=2022.1 in /usr/local/lib/python3.10/dist-packages (from pandas>=0.23->pandas-datareader) (2024.1)\n",
            "Requirement already satisfied: numpy>=1.21.0 in /usr/local/lib/python3.10/dist-packages (from pandas>=0.23->pandas-datareader) (1.25.2)\n",
            "Requirement already satisfied: charset-normalizer<4,>=2 in /usr/local/lib/python3.10/dist-packages (from requests>=2.19.0->pandas-datareader) (3.3.2)\n",
            "Requirement already satisfied: idna<4,>=2.5 in /usr/local/lib/python3.10/dist-packages (from requests>=2.19.0->pandas-datareader) (3.7)\n",
            "Requirement already satisfied: urllib3<3,>=1.21.1 in /usr/local/lib/python3.10/dist-packages (from requests>=2.19.0->pandas-datareader) (2.0.7)\n",
            "Requirement already satisfied: certifi>=2017.4.17 in /usr/local/lib/python3.10/dist-packages (from requests>=2.19.0->pandas-datareader) (2024.7.4)\n",
            "Requirement already satisfied: six>=1.5 in /usr/local/lib/python3.10/dist-packages (from python-dateutil>=2.8.2->pandas>=0.23->pandas-datareader) (1.16.0)\n"
          ]
        }
      ],
      "source": [
        "pip install pandas-datareader"
      ]
    },
    {
      "cell_type": "code",
      "source": [
        "import pandas_datareader as pdr\n",
        "import pandas_datareader as pdr\n",
        "from datetime import datetime\n",
        "\n",
        "# VWO ETF의 티커는 'VWO'입니다. Yahoo Finance에서 가져오기 위해 'yahoo'를 사용합니다.\n",
        "ticker = 'VWO'\n",
        "data_source = 'yahoo'\n",
        "\n",
        "# 데이터를 가져올 기간 설정 (시작일과 종료일)\n",
        "start_date = datetime(2010, 1, 1)\n",
        "end_date = datetime(2020, 12, 31)\n",
        "\n",
        "# 데이터 가져오기\n",
        "data = pdr.DataReader(ticker, data_source, start_date, end_date)\n",
        "\n",
        "# 가져온 데이터를 출력해보기\n",
        "print(data.head())"
      ],
      "metadata": {
        "colab": {
          "base_uri": "https://localhost:8080/",
          "height": 350
        },
        "id": "ndWt_-Qt2aW7",
        "outputId": "f0a3ce70-2714-4f82-ec35-6e13a7fa31d5"
      },
      "execution_count": 11,
      "outputs": [
        {
          "output_type": "error",
          "ename": "AttributeError",
          "evalue": "'NoneType' object has no attribute 'group'",
          "traceback": [
            "\u001b[0;31m---------------------------------------------------------------------------\u001b[0m",
            "\u001b[0;31mAttributeError\u001b[0m                            Traceback (most recent call last)",
            "\u001b[0;32m<ipython-input-11-f262873822c0>\u001b[0m in \u001b[0;36m<cell line: 14>\u001b[0;34m()\u001b[0m\n\u001b[1;32m     12\u001b[0m \u001b[0;34m\u001b[0m\u001b[0m\n\u001b[1;32m     13\u001b[0m \u001b[0;31m# 데이터 가져오기\u001b[0m\u001b[0;34m\u001b[0m\u001b[0;34m\u001b[0m\u001b[0m\n\u001b[0;32m---> 14\u001b[0;31m \u001b[0mdata\u001b[0m \u001b[0;34m=\u001b[0m \u001b[0mpdr\u001b[0m\u001b[0;34m.\u001b[0m\u001b[0mDataReader\u001b[0m\u001b[0;34m(\u001b[0m\u001b[0mticker\u001b[0m\u001b[0;34m,\u001b[0m \u001b[0mdata_source\u001b[0m\u001b[0;34m,\u001b[0m \u001b[0mstart_date\u001b[0m\u001b[0;34m,\u001b[0m \u001b[0mend_date\u001b[0m\u001b[0;34m)\u001b[0m\u001b[0;34m\u001b[0m\u001b[0;34m\u001b[0m\u001b[0m\n\u001b[0m\u001b[1;32m     15\u001b[0m \u001b[0;34m\u001b[0m\u001b[0m\n\u001b[1;32m     16\u001b[0m \u001b[0;31m# 가져온 데이터를 출력해보기\u001b[0m\u001b[0;34m\u001b[0m\u001b[0;34m\u001b[0m\u001b[0m\n",
            "\u001b[0;32m/usr/local/lib/python3.10/dist-packages/pandas/util/_decorators.py\u001b[0m in \u001b[0;36mwrapper\u001b[0;34m(*args, **kwargs)\u001b[0m\n\u001b[1;32m    208\u001b[0m                     \u001b[0;32mraise\u001b[0m \u001b[0mTypeError\u001b[0m\u001b[0;34m(\u001b[0m\u001b[0mmsg\u001b[0m\u001b[0;34m)\u001b[0m\u001b[0;34m\u001b[0m\u001b[0;34m\u001b[0m\u001b[0m\n\u001b[1;32m    209\u001b[0m                 \u001b[0mkwargs\u001b[0m\u001b[0;34m[\u001b[0m\u001b[0mnew_arg_name\u001b[0m\u001b[0;34m]\u001b[0m \u001b[0;34m=\u001b[0m \u001b[0mnew_arg_value\u001b[0m\u001b[0;34m\u001b[0m\u001b[0;34m\u001b[0m\u001b[0m\n\u001b[0;32m--> 210\u001b[0;31m             \u001b[0;32mreturn\u001b[0m \u001b[0mfunc\u001b[0m\u001b[0;34m(\u001b[0m\u001b[0;34m*\u001b[0m\u001b[0margs\u001b[0m\u001b[0;34m,\u001b[0m \u001b[0;34m**\u001b[0m\u001b[0mkwargs\u001b[0m\u001b[0;34m)\u001b[0m\u001b[0;34m\u001b[0m\u001b[0;34m\u001b[0m\u001b[0m\n\u001b[0m\u001b[1;32m    211\u001b[0m \u001b[0;34m\u001b[0m\u001b[0m\n\u001b[1;32m    212\u001b[0m         \u001b[0;32mreturn\u001b[0m \u001b[0mcast\u001b[0m\u001b[0;34m(\u001b[0m\u001b[0mF\u001b[0m\u001b[0;34m,\u001b[0m \u001b[0mwrapper\u001b[0m\u001b[0;34m)\u001b[0m\u001b[0;34m\u001b[0m\u001b[0;34m\u001b[0m\u001b[0m\n",
            "\u001b[0;32m/usr/local/lib/python3.10/dist-packages/pandas_datareader/data.py\u001b[0m in \u001b[0;36mDataReader\u001b[0;34m(name, data_source, start, end, retry_count, pause, session, api_key)\u001b[0m\n\u001b[1;32m    377\u001b[0m             \u001b[0mpause\u001b[0m\u001b[0;34m=\u001b[0m\u001b[0mpause\u001b[0m\u001b[0;34m,\u001b[0m\u001b[0;34m\u001b[0m\u001b[0;34m\u001b[0m\u001b[0m\n\u001b[1;32m    378\u001b[0m             \u001b[0msession\u001b[0m\u001b[0;34m=\u001b[0m\u001b[0msession\u001b[0m\u001b[0;34m,\u001b[0m\u001b[0;34m\u001b[0m\u001b[0;34m\u001b[0m\u001b[0m\n\u001b[0;32m--> 379\u001b[0;31m         ).read()\n\u001b[0m\u001b[1;32m    380\u001b[0m \u001b[0;34m\u001b[0m\u001b[0m\n\u001b[1;32m    381\u001b[0m     \u001b[0;32melif\u001b[0m \u001b[0mdata_source\u001b[0m \u001b[0;34m==\u001b[0m \u001b[0;34m\"iex\"\u001b[0m\u001b[0;34m:\u001b[0m\u001b[0;34m\u001b[0m\u001b[0;34m\u001b[0m\u001b[0m\n",
            "\u001b[0;32m/usr/local/lib/python3.10/dist-packages/pandas_datareader/base.py\u001b[0m in \u001b[0;36mread\u001b[0;34m(self)\u001b[0m\n\u001b[1;32m    251\u001b[0m         \u001b[0;31m# If a single symbol, (e.g., 'GOOG')\u001b[0m\u001b[0;34m\u001b[0m\u001b[0;34m\u001b[0m\u001b[0m\n\u001b[1;32m    252\u001b[0m         \u001b[0;32mif\u001b[0m \u001b[0misinstance\u001b[0m\u001b[0;34m(\u001b[0m\u001b[0mself\u001b[0m\u001b[0;34m.\u001b[0m\u001b[0msymbols\u001b[0m\u001b[0;34m,\u001b[0m \u001b[0;34m(\u001b[0m\u001b[0mstring_types\u001b[0m\u001b[0;34m,\u001b[0m \u001b[0mint\u001b[0m\u001b[0;34m)\u001b[0m\u001b[0;34m)\u001b[0m\u001b[0;34m:\u001b[0m\u001b[0;34m\u001b[0m\u001b[0;34m\u001b[0m\u001b[0m\n\u001b[0;32m--> 253\u001b[0;31m             \u001b[0mdf\u001b[0m \u001b[0;34m=\u001b[0m \u001b[0mself\u001b[0m\u001b[0;34m.\u001b[0m\u001b[0m_read_one_data\u001b[0m\u001b[0;34m(\u001b[0m\u001b[0mself\u001b[0m\u001b[0;34m.\u001b[0m\u001b[0murl\u001b[0m\u001b[0;34m,\u001b[0m \u001b[0mparams\u001b[0m\u001b[0;34m=\u001b[0m\u001b[0mself\u001b[0m\u001b[0;34m.\u001b[0m\u001b[0m_get_params\u001b[0m\u001b[0;34m(\u001b[0m\u001b[0mself\u001b[0m\u001b[0;34m.\u001b[0m\u001b[0msymbols\u001b[0m\u001b[0;34m)\u001b[0m\u001b[0;34m)\u001b[0m\u001b[0;34m\u001b[0m\u001b[0;34m\u001b[0m\u001b[0m\n\u001b[0m\u001b[1;32m    254\u001b[0m         \u001b[0;31m# Or multiple symbols, (e.g., ['GOOG', 'AAPL', 'MSFT'])\u001b[0m\u001b[0;34m\u001b[0m\u001b[0;34m\u001b[0m\u001b[0m\n\u001b[1;32m    255\u001b[0m         \u001b[0;32melif\u001b[0m \u001b[0misinstance\u001b[0m\u001b[0;34m(\u001b[0m\u001b[0mself\u001b[0m\u001b[0;34m.\u001b[0m\u001b[0msymbols\u001b[0m\u001b[0;34m,\u001b[0m \u001b[0mDataFrame\u001b[0m\u001b[0;34m)\u001b[0m\u001b[0;34m:\u001b[0m\u001b[0;34m\u001b[0m\u001b[0;34m\u001b[0m\u001b[0m\n",
            "\u001b[0;32m/usr/local/lib/python3.10/dist-packages/pandas_datareader/yahoo/daily.py\u001b[0m in \u001b[0;36m_read_one_data\u001b[0;34m(self, url, params)\u001b[0m\n\u001b[1;32m    150\u001b[0m         \u001b[0mptrn\u001b[0m \u001b[0;34m=\u001b[0m \u001b[0;34mr\"root\\.App\\.main = (.*?);\\n}\\(this\\)\\);\"\u001b[0m\u001b[0;34m\u001b[0m\u001b[0;34m\u001b[0m\u001b[0m\n\u001b[1;32m    151\u001b[0m         \u001b[0;32mtry\u001b[0m\u001b[0;34m:\u001b[0m\u001b[0;34m\u001b[0m\u001b[0;34m\u001b[0m\u001b[0m\n\u001b[0;32m--> 152\u001b[0;31m             \u001b[0mj\u001b[0m \u001b[0;34m=\u001b[0m \u001b[0mjson\u001b[0m\u001b[0;34m.\u001b[0m\u001b[0mloads\u001b[0m\u001b[0;34m(\u001b[0m\u001b[0mre\u001b[0m\u001b[0;34m.\u001b[0m\u001b[0msearch\u001b[0m\u001b[0;34m(\u001b[0m\u001b[0mptrn\u001b[0m\u001b[0;34m,\u001b[0m \u001b[0mresp\u001b[0m\u001b[0;34m.\u001b[0m\u001b[0mtext\u001b[0m\u001b[0;34m,\u001b[0m \u001b[0mre\u001b[0m\u001b[0;34m.\u001b[0m\u001b[0mDOTALL\u001b[0m\u001b[0;34m)\u001b[0m\u001b[0;34m.\u001b[0m\u001b[0mgroup\u001b[0m\u001b[0;34m(\u001b[0m\u001b[0;36m1\u001b[0m\u001b[0;34m)\u001b[0m\u001b[0;34m)\u001b[0m\u001b[0;34m\u001b[0m\u001b[0;34m\u001b[0m\u001b[0m\n\u001b[0m\u001b[1;32m    153\u001b[0m             \u001b[0mdata\u001b[0m \u001b[0;34m=\u001b[0m \u001b[0mj\u001b[0m\u001b[0;34m[\u001b[0m\u001b[0;34m\"context\"\u001b[0m\u001b[0;34m]\u001b[0m\u001b[0;34m[\u001b[0m\u001b[0;34m\"dispatcher\"\u001b[0m\u001b[0;34m]\u001b[0m\u001b[0;34m[\u001b[0m\u001b[0;34m\"stores\"\u001b[0m\u001b[0;34m]\u001b[0m\u001b[0;34m[\u001b[0m\u001b[0;34m\"HistoricalPriceStore\"\u001b[0m\u001b[0;34m]\u001b[0m\u001b[0;34m\u001b[0m\u001b[0;34m\u001b[0m\u001b[0m\n\u001b[1;32m    154\u001b[0m         \u001b[0;32mexcept\u001b[0m \u001b[0mKeyError\u001b[0m\u001b[0;34m:\u001b[0m\u001b[0;34m\u001b[0m\u001b[0;34m\u001b[0m\u001b[0m\n",
            "\u001b[0;31mAttributeError\u001b[0m: 'NoneType' object has no attribute 'group'"
          ]
        }
      ]
    },
    {
      "cell_type": "code",
      "source": [
        "import yfinance as yf\n",
        "import pandas as pd\n",
        "\n",
        "# VWO ETF의 티커는 'VWO'입니다.\n",
        "ticker = 'VWO'\n",
        "\n",
        "# 데이터를 가져올 기간 설정 (시작일과 종료일)\n",
        "start_date = '2023-07-01'\n",
        "end_date = '2024-07-24'\n",
        "\n",
        "# Yahoo Finance에서 데이터 가져오기\n",
        "data = yf.download(ticker, start=start_date, end=end_date)\n",
        "\n",
        "# 가져온 데이터를 출력해보기\n",
        "print(data.head())"
      ],
      "metadata": {
        "colab": {
          "base_uri": "https://localhost:8080/"
        },
        "id": "P5TF0LNk2sE6",
        "outputId": "fe53a9c5-661c-4328-b332-b2dfa6fee87c"
      },
      "execution_count": 13,
      "outputs": [
        {
          "output_type": "stream",
          "name": "stderr",
          "text": [
            "\r[*********************100%%**********************]  1 of 1 completed"
          ]
        },
        {
          "output_type": "stream",
          "name": "stdout",
          "text": [
            "                 Open       High        Low      Close  Adj Close   Volume\n",
            "Date                                                                      \n",
            "2023-07-03  41.099998  41.270000  41.020000  41.080002  39.699139  4891400\n",
            "2023-07-05  40.950001  40.959999  40.810001  40.880001  39.505856  8001600\n",
            "2023-07-06  40.330002  40.389999  39.959999  40.099998  38.752075  7924400\n",
            "2023-07-07  40.270000  40.770000  40.270000  40.580002  39.215942  6731400\n",
            "2023-07-10  40.349998  40.610001  40.299999  40.590000  39.225601  5512800\n"
          ]
        },
        {
          "output_type": "stream",
          "name": "stderr",
          "text": [
            "\n"
          ]
        }
      ]
    },
    {
      "cell_type": "code",
      "source": [
        "from datetime import datetime\n",
        "import pytz\n",
        "\n",
        "# 미국 동부 표준시의 타임존 객체 생성\n",
        "eastern = pytz.timezone('US/Eastern')\n",
        "\n",
        "# 현재 날짜와 시간을 미국 동부 표준시 기준으로 가져오기\n",
        "current_datetime = datetime.now(eastern)\n",
        "\n",
        "# 날짜만 가져오기\n",
        "current_date = current_datetime.date()\n",
        "\n",
        "print(\"미국 동부 표준시 현재 날짜:\", current_date)\n",
        "\n",
        "current_year_to_string = current_date.strftime(\"%Y\")\n",
        "current_day_to_string = current_date.strftime(\"%d\")\n",
        "current_month_to_string = current_date.strftime(\"%m\")\n",
        "\n",
        "year_now = int(current_year_to_string)\n",
        "day_now = int(current_day_to_string)\n",
        "month_now = int(current_month_to_string)"
      ],
      "metadata": {
        "colab": {
          "base_uri": "https://localhost:8080/"
        },
        "id": "EvT1gh1p5XdY",
        "outputId": "dbe80a9f-7102-45ac-d304-e97d2d01301b"
      },
      "execution_count": 22,
      "outputs": [
        {
          "output_type": "stream",
          "name": "stdout",
          "text": [
            "미국 동부 표준시 현재 날짜: 2024-07-25\n"
          ]
        }
      ]
    },
    {
      "cell_type": "code",
      "source": [
        "\n"
      ],
      "metadata": {
        "id": "VEA6aGDu6-BR"
      },
      "execution_count": 28,
      "outputs": []
    },
    {
      "cell_type": "code",
      "source": [
        "pip install python-dateutil"
      ],
      "metadata": {
        "colab": {
          "base_uri": "https://localhost:8080/"
        },
        "id": "gh-1u_EP7iAd",
        "outputId": "cd0858d3-01ed-4106-e6d0-8b30bd56f7cd"
      },
      "execution_count": 23,
      "outputs": [
        {
          "output_type": "stream",
          "name": "stdout",
          "text": [
            "Requirement already satisfied: python-dateutil in /usr/local/lib/python3.10/dist-packages (2.8.2)\n",
            "Requirement already satisfied: six>=1.5 in /usr/local/lib/python3.10/dist-packages (from python-dateutil) (1.16.0)\n"
          ]
        }
      ]
    },
    {
      "cell_type": "code",
      "source": [
        "from datetime import datetime, timedelta\n",
        "from dateutil.relativedelta import relativedelta\n",
        "import pytz\n",
        "\n",
        "# 미국 동부 표준시의 타임존 객체 생성\n",
        "eastern = pytz.timezone('US/Eastern')\n",
        "\n",
        "# 현재 날짜와 시간을 미국 동부 표준시 기준으로 가져오기\n",
        "current_date= datetime.now(eastern)\n",
        "# # 현재 날짜 구하기\n",
        "# current_date = datetime.now()\n",
        "\n",
        "# 하루 전 날짜\n",
        "one_day_ago = current_date - timedelta(days=1)\n",
        "\n",
        "# 1달 전 날짜\n",
        "one_month_ago = one_day_ago - relativedelta(months=1)\n",
        "\n",
        "# 3달 전 날짜\n",
        "three_months_ago = one_day_ago - relativedelta(months=3)\n",
        "\n",
        "# 6달 전 날짜\n",
        "six_months_ago = one_day_ago - relativedelta(months=6)\n",
        "\n",
        "# 12달 전 날짜\n",
        "twelve_months_ago = one_day_ago - relativedelta(months=12)\n",
        "\n",
        "\n",
        "# 주말을 금요일로 변환하는 함수\n",
        "def adjust_to_friday(date):\n",
        "    # 날짜가 토요일(5)이라면 하루 빼기, 일요일(6)이라면 이틀 빼기\n",
        "    if date.weekday() == 5:  # 토요일\n",
        "        return date - timedelta(days=1)\n",
        "    elif date.weekday() == 6:  # 일요일\n",
        "        return date - timedelta(days=2)\n",
        "    else:\n",
        "        return date\n",
        "\n",
        "# 날짜 조정\n",
        "one_day_ago = adjust_to_friday(one_day_ago)\n",
        "one_month_ago = adjust_to_friday(one_month_ago)\n",
        "three_months_ago = adjust_to_friday(three_months_ago)\n",
        "six_months_ago = adjust_to_friday(six_months_ago)\n",
        "twelve_months_ago = adjust_to_friday(twelve_months_ago)\n",
        "\n",
        "\n",
        "\n",
        "# 결과 출력\n",
        "print(\"현재 날짜: \", current_date)\n",
        "print(\"1달 전: \", one_month_ago)\n",
        "print(\"3달 전: \", three_months_ago)\n",
        "print(\"6달 전: \", six_months_ago)\n",
        "print(\"12달 전: \", twelve_months_ago)"
      ],
      "metadata": {
        "colab": {
          "base_uri": "https://localhost:8080/"
        },
        "id": "duM8u7wL-6vv",
        "outputId": "169c4cba-cb37-4ee3-af6e-08a689885061"
      },
      "execution_count": 27,
      "outputs": [
        {
          "output_type": "stream",
          "name": "stdout",
          "text": [
            "현재 날짜:  2024-07-25 09:08:15.562496-04:00\n",
            "1달 전:  2024-06-24 09:08:15.562496-04:00\n",
            "3달 전:  2024-04-24 09:08:15.562496-04:00\n",
            "6달 전:  2024-01-24 09:08:15.562496-04:00\n",
            "12달 전:  2023-07-24 09:08:15.562496-04:00\n"
          ]
        }
      ]
    },
    {
      "cell_type": "code",
      "source": [
        "import yfinance as yf\n",
        "import pandas as pd\n",
        "from datetime import datetime, timedelta\n",
        "from dateutil.relativedelta import relativedelta\n",
        "\n",
        "def calculate_ratios(ticker, start_date, end_date):\n",
        "    # Yahoo Finance에서 데이터 가져오기\n",
        "    data = yf.download(ticker, start=start_date, end=end_date)\n",
        "\n",
        "    # 현재 날짜 설정 (가장 최근 거래일)\n",
        "    current_date = data.index[-1]\n",
        "\n",
        "    # 필요한 날짜 계산\n",
        "    one_month_ago = current_date - relativedelta(months=1)\n",
        "    three_months_ago = current_date - relativedelta(months=3)\n",
        "    six_months_ago = current_date - relativedelta(months=6)\n",
        "    twelve_months_ago = current_date - relativedelta(months=12)\n",
        "\n",
        "    # 주말을 금요일로 변환하는 함수\n",
        "    def adjust_to_friday(date):\n",
        "        if date.weekday() == 5:  # 토요일\n",
        "            return date - timedelta(days=1)\n",
        "        elif date.weekday() == 6:  # 일요일\n",
        "            return date - timedelta(days=2)\n",
        "        else:\n",
        "            return date\n",
        "\n",
        "    # 날짜 조정\n",
        "    one_month_ago = adjust_to_friday(one_month_ago)\n",
        "    three_months_ago = adjust_to_friday(three_months_ago)\n",
        "    six_months_ago = adjust_to_friday(six_months_ago)\n",
        "    twelve_months_ago = adjust_to_friday(twelve_months_ago)\n",
        "\n",
        "    # 필요한 날짜의 가장 가까운 거래일 찾기\n",
        "    one_month_close = data.loc[:one_month_ago].iloc[-1]['Close']\n",
        "    three_months_close = data.loc[:three_months_ago].iloc[-1]['Close']\n",
        "    six_months_close = data.loc[:six_months_ago].iloc[-1]['Close']\n",
        "    twelve_months_close = data.loc[:twelve_months_ago].iloc[-1]['Close']\n",
        "\n",
        "    # 현재 날짜의 Close 값\n",
        "    current_close = data.loc[current_date]['Close']\n",
        "\n",
        "    # 각 날짜의 Close 값으로 나누고 1을 뺀 값 계산\n",
        "    one_month_ratio = (current_close / one_month_close) - 1\n",
        "    three_months_ratio = (current_close / three_months_close) - 1\n",
        "    six_months_ratio = (current_close / six_months_close) - 1\n",
        "    twelve_months_ratio = (current_close / twelve_months_close) - 1\n",
        "\n",
        "    # 비율의 합 계산\n",
        "    total_ratio = one_month_ratio + three_months_ratio + six_months_ratio + twelve_months_ratio\n",
        "\n",
        "    # 결과 출력\n",
        "    print(f\"{ticker} - 현재 날짜: {current_date}\")\n",
        "    print(f\"{ticker} - 현재 Close 값: {current_close}\")\n",
        "    print(f\"{ticker} - 1달 전 Close 값: {one_month_close}, 비율: {one_month_ratio}\")\n",
        "    print(f\"{ticker} - 3달 전 Close 값: {three_months_close}, 비율: {three_months_ratio}\")\n",
        "    print(f\"{ticker} - 6달 전 Close 값: {six_months_close}, 비율: {six_months_ratio}\")\n",
        "    print(f\"{ticker} - 12달 전 Close 값: {twelve_months_close}, 비율: {twelve_months_ratio}\")\n",
        "    print(f\"{ticker} - 비율의 합: {total_ratio}\")\n",
        "\n",
        "# VWO와 BND ETF에 대해 함수 호출\n",
        "start_date = '2023-07-01'\n",
        "end_date = '2024-07-24'\n",
        "\n",
        "calculate_ratios('VWO', start_date, end_date)\n",
        "calculate_ratios('BND', start_date, end_date)"
      ],
      "metadata": {
        "colab": {
          "base_uri": "https://localhost:8080/"
        },
        "id": "vsiwzs_2_AkF",
        "outputId": "8fd5850c-bd2e-4f18-f00b-7df4e06767d9"
      },
      "execution_count": 31,
      "outputs": [
        {
          "output_type": "stream",
          "name": "stderr",
          "text": [
            "\r[*********************100%%**********************]  1 of 1 completed\n"
          ]
        },
        {
          "output_type": "stream",
          "name": "stdout",
          "text": [
            "VWO - 현재 날짜: 2024-07-23 00:00:00\n",
            "VWO - 현재 Close 값: 43.810001373291016\n",
            "VWO - 1달 전 Close 값: 43.95000076293945, 비율: -0.003185424055020536\n",
            "VWO - 3달 전 Close 값: 41.58000183105469, 비율: 0.05363154026055894\n",
            "VWO - 6달 전 Close 값: 39.540000915527344, 비율: 0.10799191600642688\n",
            "VWO - 12달 전 Close 값: 41.34000015258789, 비율: 0.059748456980799114\n",
            "VWO - 비율의 합: 0.2181864891927644\n"
          ]
        },
        {
          "output_type": "stream",
          "name": "stderr",
          "text": [
            "\r[*********************100%%**********************]  1 of 1 completed"
          ]
        },
        {
          "output_type": "stream",
          "name": "stdout",
          "text": [
            "BND - 현재 날짜: 2024-07-23 00:00:00\n",
            "BND - 현재 Close 값: 72.69999694824219\n",
            "BND - 1달 전 Close 값: 72.5199966430664, 비율: 0.002482078233700502\n",
            "BND - 3달 전 Close 값: 70.94999694824219, 비율: 0.024665258284318536\n",
            "BND - 6달 전 Close 값: 72.62000274658203, 비율: 0.0011015450101166113\n",
            "BND - 12달 전 Close 값: 72.62000274658203, 비율: 0.0011015450101166113\n",
            "BND - 비율의 합: 0.02935042653825226\n"
          ]
        },
        {
          "output_type": "stream",
          "name": "stderr",
          "text": [
            "\n"
          ]
        }
      ]
    },
    {
      "cell_type": "code",
      "source": [],
      "metadata": {
        "id": "A7BY428dBjAq"
      },
      "execution_count": null,
      "outputs": []
    }
  ]
}